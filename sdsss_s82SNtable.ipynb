{
 "cells": [
  {
   "cell_type": "code",
   "execution_count": 1,
   "metadata": {
    "collapsed": true
   },
   "outputs": [],
   "source": [
    "import numpy as np\n",
    "\n",
    "from astropy.io import ascii\n",
    "from astropy.table import Table"
   ]
  },
  {
   "cell_type": "code",
   "execution_count": 41,
   "metadata": {
    "collapsed": false
   },
   "outputs": [
    {
     "ename": "InconsistentTableError",
     "evalue": "Number of header columns (7) inconsistent with data columns (8) at data line 103\nHeader values: ['col1', 'col2', 'col3', 'col4', 'col5', 'col6', 'col7']\nData values: ['SN2929', 'SNIa', '(LC)', '2005im', '0:36:2.87', '+0:50:5.9', '0.11920', '53639.0']",
     "output_type": "error",
     "traceback": [
      "\u001b[1;31m---------------------------------------------------------------------------\u001b[0m",
      "\u001b[1;31mInconsistentTableError\u001b[0m                    Traceback (most recent call last)",
      "\u001b[1;32m<ipython-input-41-bd27bb043db9>\u001b[0m in \u001b[0;36m<module>\u001b[1;34m()\u001b[0m\n\u001b[1;32m----> 1\u001b[1;33m \u001b[0msnlist\u001b[0m \u001b[1;33m=\u001b[0m \u001b[0mascii\u001b[0m\u001b[1;33m.\u001b[0m\u001b[0mread\u001b[0m\u001b[1;33m(\u001b[0m\u001b[1;34m'./../../data/stripe82/snlist.dat.txt'\u001b[0m\u001b[1;33m,\u001b[0m \u001b[0mguess\u001b[0m\u001b[1;33m=\u001b[0m\u001b[0mFalse\u001b[0m\u001b[1;33m,\u001b[0m \u001b[0mdelimiter\u001b[0m\u001b[1;33m=\u001b[0m\u001b[1;34m' '\u001b[0m\u001b[1;33m,\u001b[0m \u001b[0mcomment\u001b[0m\u001b[1;33m=\u001b[0m\u001b[1;34m'#'\u001b[0m\u001b[1;33m,\u001b[0m \u001b[0mformat\u001b[0m\u001b[1;33m=\u001b[0m\u001b[1;34m'no_header'\u001b[0m\u001b[1;33m)\u001b[0m\u001b[1;33m\u001b[0m\u001b[0m\n\u001b[0m",
      "\u001b[1;32m/home/bos0109/sersic/work/rhino/lib/python2.7/site-packages/astropy/io/ascii/ui.pyc\u001b[0m in \u001b[0;36mread\u001b[1;34m(table, guess, **kwargs)\u001b[0m\n\u001b[0;32m    332\u001b[0m                     \u001b[1;32mraise\u001b[0m \u001b[0me\u001b[0m\u001b[1;33m\u001b[0m\u001b[0m\n\u001b[0;32m    333\u001b[0m                 \u001b[1;31m# If the fast reader doesn't work, try the slow version\u001b[0m\u001b[1;33m\u001b[0m\u001b[1;33m\u001b[0m\u001b[0m\n\u001b[1;32m--> 334\u001b[1;33m                 \u001b[0mdat\u001b[0m \u001b[1;33m=\u001b[0m \u001b[0mreader\u001b[0m\u001b[1;33m.\u001b[0m\u001b[0mread\u001b[0m\u001b[1;33m(\u001b[0m\u001b[0mtable\u001b[0m\u001b[1;33m)\u001b[0m\u001b[1;33m\u001b[0m\u001b[0m\n\u001b[0m\u001b[0;32m    335\u001b[0m                 _read_trace.append({'kwargs': new_kwargs,\n\u001b[0;32m    336\u001b[0m                                     \u001b[1;34m'status'\u001b[0m\u001b[1;33m:\u001b[0m \u001b[1;34m'Success with slow reader after failing'\u001b[0m\u001b[1;33m\u001b[0m\u001b[0m\n",
      "\u001b[1;32m/home/bos0109/sersic/work/rhino/lib/python2.7/site-packages/astropy/io/ascii/core.pyc\u001b[0m in \u001b[0;36mread\u001b[1;34m(self, table)\u001b[0m\n\u001b[0;32m   1161\u001b[0m                               'Data values: %s' % (n_cols, len(str_vals), i,\n\u001b[0;32m   1162\u001b[0m                                                    [x.name for x in cols], str_vals))\n\u001b[1;32m-> 1163\u001b[1;33m                     \u001b[1;32mraise\u001b[0m \u001b[0mInconsistentTableError\u001b[0m\u001b[1;33m(\u001b[0m\u001b[0merrmsg\u001b[0m\u001b[1;33m)\u001b[0m\u001b[1;33m\u001b[0m\u001b[0m\n\u001b[0m\u001b[0;32m   1164\u001b[0m \u001b[1;33m\u001b[0m\u001b[0m\n\u001b[0;32m   1165\u001b[0m             \u001b[1;32mfor\u001b[0m \u001b[0mj\u001b[0m\u001b[1;33m,\u001b[0m \u001b[0mcol\u001b[0m \u001b[1;32min\u001b[0m \u001b[0menumerate\u001b[0m\u001b[1;33m(\u001b[0m\u001b[0mcols\u001b[0m\u001b[1;33m)\u001b[0m\u001b[1;33m:\u001b[0m\u001b[1;33m\u001b[0m\u001b[0m\n",
      "\u001b[1;31mInconsistentTableError\u001b[0m: Number of header columns (7) inconsistent with data columns (8) at data line 103\nHeader values: ['col1', 'col2', 'col3', 'col4', 'col5', 'col6', 'col7']\nData values: ['SN2929', 'SNIa', '(LC)', '2005im', '0:36:2.87', '+0:50:5.9', '0.11920', '53639.0']"
     ]
    }
   ],
   "source": [
    "snlist = ascii.read('./../../data/stripe82/snlist.dat.txt', guess=False, delimiter=' ', comment='#', format='no_header')"
   ]
  },
  {
   "cell_type": "code",
   "execution_count": 26,
   "metadata": {
    "collapsed": false
   },
   "outputs": [
    {
     "data": {
      "text/html": [
       "&lt;Table length=900&gt;\n",
       "<table id=\"table139650983611536\">\n",
       "<thead><tr><th>SN5   SNIa   2004hz   2:5:3.00   +0:50:11.9   ---   53281.6</th></tr></thead>\n",
       "<thead><tr><th>str75</th></tr></thead>\n",
       "<tr><td>SN10   SNIa   2004hw   23:51:17.34   +1:13:39.4   ---   53233.0</td></tr>\n",
       "<tr><td>SN12   SNII   2004hy   21:6:4.25   +1:12:57.0   0.05790   53270.0</td></tr>\n",
       "<tr><td>SN15   SNIa   2004hu   1:15:2.44   +0:15:42.9   0.04760   53254.0</td></tr>\n",
       "<tr><td>SN18   SNII   2004hx   2:41:12.60   -0:52:46.0   0.03820   53275.0</td></tr>\n",
       "<tr><td>SN19   SNIa   2004id   0:6:29.63   -0:28:22.4   0.15060   53294.7</td></tr>\n",
       "<tr><td>SN20   SNIb   2004ib   2:40:56.40   -0:10:48.3   ---   53290.0</td></tr>\n",
       "<tr><td>SN24   SNII   2004ht   1:4:48.67   -0:53:45.5   0.06470   53283.0</td></tr>\n",
       "<tr><td>SN25   SNIa   2004if   22:39:8.53   -0:51:54.7   ---   53284.4</td></tr>\n",
       "<tr><td>SN30   SNIa   2004ia   2:18:2.30   -0:33:32.4   0.14360   53284.7</td></tr>\n",
       "<tr><td>SN83   SNIa   2004ie   22:1:46.58   +1:14:12.0   0.05160   53295.0</td></tr>\n",
       "<tr><td>...</td></tr>\n",
       "<tr><td>SN21669   SNIa   2007rs   0:46:27.40   -1:3:44.2   0.12418   54429.0</td></tr>\n",
       "<tr><td>SN21683   SNIa?(LC)   22:42:23.74   +0:31:3.4   0.45600   54416.6</td></tr>\n",
       "<tr><td>SN21709   SNIa?(LC)   21:46:6.28   -1:2:58.7   ---   54424.9</td></tr>\n",
       "<tr><td>SN21766   SNIa   2007rc   1:50:20.19   -0:24:13.7   0.12788   54399.6</td></tr>\n",
       "<tr><td>SN21810   SNIa   2007se   22:12:37.10   +0:47:48.2   0.17600   ---</td></tr>\n",
       "<tr><td>SN21814   SNIa   2007sf   22:48:59.11   +1:12:21.9   0.10000   54433.6</td></tr>\n",
       "<tr><td>SN21839   SNIa   2007sl   21:13:42.82   -0:50:16.0   0.09500   54438.5</td></tr>\n",
       "<tr><td>SN21861   SNIa   2007sg   23:19:26.09   -0:54:5.9   0.18800   54432.1</td></tr>\n",
       "<tr><td>SN22073   SNII   2007sk   1:27:5.25   +1:12:54.5   0.23100   54430.8</td></tr>\n",
       "<tr><td>SN22075   SNIa   2007si   1:59:51.14   +1:12:59.3   0.12995   54426.0</td></tr>\n",
       "</table>"
      ],
      "text/plain": [
       "<Table length=900>\n",
       "     SN5   SNIa   2004hz   2:5:3.00   +0:50:11.9   ---   53281.6      \n",
       "                                str75                                 \n",
       "----------------------------------------------------------------------\n",
       "       SN10   SNIa   2004hw   23:51:17.34   +1:13:39.4   ---   53233.0\n",
       "     SN12   SNII   2004hy   21:6:4.25   +1:12:57.0   0.05790   53270.0\n",
       "     SN15   SNIa   2004hu   1:15:2.44   +0:15:42.9   0.04760   53254.0\n",
       "    SN18   SNII   2004hx   2:41:12.60   -0:52:46.0   0.03820   53275.0\n",
       "     SN19   SNIa   2004id   0:6:29.63   -0:28:22.4   0.15060   53294.7\n",
       "        SN20   SNIb   2004ib   2:40:56.40   -0:10:48.3   ---   53290.0\n",
       "     SN24   SNII   2004ht   1:4:48.67   -0:53:45.5   0.06470   53283.0\n",
       "        SN25   SNIa   2004if   22:39:8.53   -0:51:54.7   ---   53284.4\n",
       "     SN30   SNIa   2004ia   2:18:2.30   -0:33:32.4   0.14360   53284.7\n",
       "    SN83   SNIa   2004ie   22:1:46.58   +1:14:12.0   0.05160   53295.0\n",
       "                                                                   ...\n",
       "  SN21669   SNIa   2007rs   0:46:27.40   -1:3:44.2   0.12418   54429.0\n",
       "     SN21683   SNIa?(LC)   22:42:23.74   +0:31:3.4   0.45600   54416.6\n",
       "          SN21709   SNIa?(LC)   21:46:6.28   -1:2:58.7   ---   54424.9\n",
       " SN21766   SNIa   2007rc   1:50:20.19   -0:24:13.7   0.12788   54399.6\n",
       "    SN21810   SNIa   2007se   22:12:37.10   +0:47:48.2   0.17600   ---\n",
       "SN21814   SNIa   2007sf   22:48:59.11   +1:12:21.9   0.10000   54433.6\n",
       "SN21839   SNIa   2007sl   21:13:42.82   -0:50:16.0   0.09500   54438.5\n",
       " SN21861   SNIa   2007sg   23:19:26.09   -0:54:5.9   0.18800   54432.1\n",
       "  SN22073   SNII   2007sk   1:27:5.25   +1:12:54.5   0.23100   54430.8\n",
       " SN22075   SNIa   2007si   1:59:51.14   +1:12:59.3   0.12995   54426.0"
      ]
     },
     "execution_count": 26,
     "metadata": {},
     "output_type": "execute_result"
    }
   ],
   "source": [
    "ascii.read?\n",
    "snlist"
   ]
  },
  {
   "cell_type": "code",
   "execution_count": null,
   "metadata": {
    "collapsed": true
   },
   "outputs": [],
   "source": []
  }
 ],
 "metadata": {
  "kernelspec": {
   "display_name": "Python 2",
   "language": "python",
   "name": "python2"
  },
  "language_info": {
   "codemirror_mode": {
    "name": "ipython",
    "version": 2
   },
   "file_extension": ".py",
   "mimetype": "text/x-python",
   "name": "python",
   "nbconvert_exporter": "python",
   "pygments_lexer": "ipython2",
   "version": "2.7.9"
  }
 },
 "nbformat": 4,
 "nbformat_minor": 0
}
